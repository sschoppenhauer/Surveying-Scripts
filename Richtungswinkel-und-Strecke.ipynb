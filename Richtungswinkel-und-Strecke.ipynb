{
 "cells": [
  {
   "cell_type": "markdown",
   "metadata": {},
   "source": [
    "# <center> Richtungswinkel und Strecke"
   ]
  },
  {
   "cell_type": "markdown",
   "metadata": {},
   "source": [
    "Quelle: Gruber, Joeckel (2018): Formelsammlung für das Vermessungswesen, Springer Vieweg"
   ]
  },
  {
   "cell_type": "code",
   "execution_count": 17,
   "metadata": {},
   "outputs": [],
   "source": [
    "#HIDDEN\n",
    "from ipywidgets import *\n",
    "from IPython.display import display, clear_output, Image\n",
    "import math"
   ]
  },
  {
   "cell_type": "markdown",
   "metadata": {},
   "source": [
    "<img src=\"https://github.com/sschoppenhauer/Surveying-Scripts/raw/master/Images/Richtungswinkel-und-Strecke.png\" style=\"width: 50%;\"/>"
   ]
  },
  {
   "cell_type": "code",
   "execution_count": 19,
   "metadata": {
    "scrolled": false
   },
   "outputs": [
    {
     "data": {
      "application/vnd.jupyter.widget-view+json": {
       "model_id": "dfbd84ba8f8543efb8b5eaffa24f67e0",
       "version_major": 2,
       "version_minor": 0
      },
      "text/plain": [
       "TwoByTwoLayout(children=(Label(value='Koordinaten Punkt 1:', layout=Layout(grid_area='top-left')), Label(value…"
      ]
     },
     "metadata": {},
     "output_type": "display_data"
    },
    {
     "data": {
      "application/vnd.jupyter.widget-view+json": {
       "model_id": "6a0ac06357f541f3a155ee1f6737e28b",
       "version_major": 2,
       "version_minor": 0
      },
      "text/plain": [
       "TwoByTwoLayout(children=(Text(value='', description='Y [m] ', layout=Layout(grid_area='top-left', height='auto…"
      ]
     },
     "metadata": {},
     "output_type": "display_data"
    },
    {
     "data": {
      "application/vnd.jupyter.widget-view+json": {
       "model_id": "1907b608fb69475485b8d8b47935dcc4",
       "version_major": 2,
       "version_minor": 0
      },
      "text/plain": [
       "Button(description='Neuberechnung', layout=Layout(height='auto', width='100%'), style=ButtonStyle())"
      ]
     },
     "metadata": {},
     "output_type": "display_data"
    },
    {
     "data": {
      "application/vnd.jupyter.widget-view+json": {
       "model_id": "0be38bb00f194a57892e7538f86b5702",
       "version_major": 2,
       "version_minor": 0
      },
      "text/plain": [
       "TwoByTwoLayout(children=(Text(value='', description='Richtung ', disabled=True, layout=Layout(grid_area='top-l…"
      ]
     },
     "metadata": {},
     "output_type": "display_data"
    }
   ],
   "source": [
    "#HIDDEN\n",
    "#Eingabe der gegebenen und gemessenen Werte:\n",
    "texta = widgets.Label('Koordinaten Punkt 1:')\n",
    "textb = widgets.Label('Koordinaten Punkt 2:')\n",
    "layout_text = TwoByTwoLayout(top_left=texta, top_right=textb)\n",
    "\n",
    "ya = widgets.Text(description = 'Y [m] ', layout = Layout(height='auto', width='auto'))\n",
    "xa = widgets.Text(description = 'X [m] ', layout = Layout(height='auto', width='auto'))\n",
    "yb = widgets.Text(description = 'Y [m] ', layout = Layout(height='auto', width='auto'))\n",
    "xb = widgets.Text(description = 'X [m] ', layout = Layout(height='auto', width='auto'))\n",
    "layout_eingabe = TwoByTwoLayout(top_left=ya, top_right=yb, bottom_left=xa, bottom_right=xb)\n",
    "\n",
    "button = widgets.Button(description = 'Neuberechnung', button_style = '', layout=Layout(height='auto', width='100%'))\n",
    "\n",
    "richtung_text = widgets.Text(description = 'Richtung ', layout = Layout(height='auto', width='auto'), disabled = True)\n",
    "strecke_text = widgets.Text(description = 'Strecke ', layout = Layout(height='auto', width='auto'), disabled = True)\n",
    "layout_ergebnis = TwoByTwoLayout(top_left=richtung_text, top_right=strecke_text)\n",
    "\n",
    "display(layout_text,layout_eingabe, button, layout_ergebnis)\n",
    "\n",
    "def berechnung(R1, R2, H1, H2):\n",
    "    t12 = math.atan((R2-R1)/(H2-H1))*200/math.pi\n",
    "    if R2-R1>0 and H2-H1>0:\n",
    "        richtung_text.value = str(round(t12,4))+' gon'\n",
    "    elif R2-R1>0 and H2-H1<0:\n",
    "        t12 = t12 + 200\n",
    "        richtung_text.value = str(round(t12,4))+' gon'\n",
    "    elif R2-R1<0 and H2-H1<0:\n",
    "        t12 = t12 + 200\n",
    "        richtung_text.value = str(round(t12,4))+' gon'\n",
    "    elif R2-R1<0 and H2-H1>0:\n",
    "        t12 = t12 + 400\n",
    "        richtung_text.value = str(round(t12,4))+' gon'\n",
    "        \n",
    "    s=math.sqrt((R2-R1)**2+(H2-H1)**2)\n",
    "    strecke_text.value = str(round(s,4))+' m'\n",
    "        \n",
    "def start(x):\n",
    "    berechnung(float(ya.value),float(yb.value),float(xa.value),float(xb.value))\n",
    "\n",
    "button.on_click(start)"
   ]
  },
  {
   "cell_type": "markdown",
   "metadata": {},
   "source": [
    "<center> &copy; Stefanie Schoppenhauer"
   ]
  }
 ],
 "metadata": {
  "kernelspec": {
   "display_name": "Python 3",
   "language": "python",
   "name": "python3"
  },
  "language_info": {
   "codemirror_mode": {
    "name": "ipython",
    "version": 3
   },
   "file_extension": ".py",
   "mimetype": "text/x-python",
   "name": "python",
   "nbconvert_exporter": "python",
   "pygments_lexer": "ipython3",
   "version": "3.8.3"
  }
 },
 "nbformat": 4,
 "nbformat_minor": 2
}
