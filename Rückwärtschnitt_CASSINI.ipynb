{
 "cells": [
  {
   "cell_type": "markdown",
   "metadata": {},
   "source": [
    "# <center> Rückwärtseinschnitt nach CASSINI"
   ]
  },
  {
   "cell_type": "markdown",
   "metadata": {},
   "source": [
    "Quelle: Gruber, Joeckel (2018): Formelsammlung für das Vermessungswesen, Springer Vieweg"
   ]
  },
  {
   "cell_type": "code",
   "execution_count": 1,
   "metadata": {},
   "outputs": [],
   "source": [
    "#HIDDEN\n",
    "from ipywidgets import *\n",
    "from IPython.display import display, clear_output, Image\n",
    "import math"
   ]
  },
  {
   "cell_type": "markdown",
   "metadata": {},
   "source": [
    "<img src=\"https://github.com/sschoppenhauer/Surveying-Scripts/raw/master/Images/Rückwärtsschnitt_nach_Cassini.PNG\" style=\"width: 850px;\"/>"
   ]
  },
  {
   "cell_type": "code",
   "execution_count": 2,
   "metadata": {
    "scrolled": false
   },
   "outputs": [
    {
     "data": {
      "application/vnd.jupyter.widget-view+json": {
       "model_id": "7fc82fef018a4d4081272cafebe3933a",
       "version_major": 2,
       "version_minor": 0
      },
      "text/plain": [
       "TwoByTwoLayout(children=(Label(value='Koordinaten Punkt A:', layout=Layout(grid_area='top-left')), Label(value…"
      ]
     },
     "metadata": {},
     "output_type": "display_data"
    },
    {
     "data": {
      "application/vnd.jupyter.widget-view+json": {
       "model_id": "96fe2fdc27da4d59af76ea1606187c56",
       "version_major": 2,
       "version_minor": 0
      },
      "text/plain": [
       "TwoByTwoLayout(children=(Text(value='', description='Y [m] ', layout=Layout(grid_area='top-left', height='auto…"
      ]
     },
     "metadata": {},
     "output_type": "display_data"
    },
    {
     "data": {
      "application/vnd.jupyter.widget-view+json": {
       "model_id": "225a34fed44748ac8afafc59a6a658c4",
       "version_major": 2,
       "version_minor": 0
      },
      "text/plain": [
       "TwoByTwoLayout(children=(Label(value='Koordinaten Punkt M:', layout=Layout(grid_area='top-left')), Label(value…"
      ]
     },
     "metadata": {},
     "output_type": "display_data"
    },
    {
     "data": {
      "application/vnd.jupyter.widget-view+json": {
       "model_id": "16d8bc3476a849039030fe45503f7993",
       "version_major": 2,
       "version_minor": 0
      },
      "text/plain": [
       "TwoByTwoLayout(children=(Text(value='', description='Y [m] ', layout=Layout(grid_area='top-left', height='auto…"
      ]
     },
     "metadata": {},
     "output_type": "display_data"
    },
    {
     "data": {
      "application/vnd.jupyter.widget-view+json": {
       "model_id": "ffc9bc30d75341788db199a6e9cd8db2",
       "version_major": 2,
       "version_minor": 0
      },
      "text/plain": [
       "Button(description='Neuberechnung', layout=Layout(height='auto', width='100%'), style=ButtonStyle())"
      ]
     },
     "metadata": {},
     "output_type": "display_data"
    },
    {
     "data": {
      "application/vnd.jupyter.widget-view+json": {
       "model_id": "d18266db74d64788846078b8fcb43b4b",
       "version_major": 2,
       "version_minor": 0
      },
      "text/plain": [
       "Label(value='Koordinaten Punkt N:')"
      ]
     },
     "metadata": {},
     "output_type": "display_data"
    },
    {
     "data": {
      "application/vnd.jupyter.widget-view+json": {
       "model_id": "eeb4f13a22ea46c4926f79a02339566b",
       "version_major": 2,
       "version_minor": 0
      },
      "text/plain": [
       "TwoByTwoLayout(children=(Text(value='', description='Y [m] ', disabled=True, layout=Layout(grid_area='top-left…"
      ]
     },
     "metadata": {},
     "output_type": "display_data"
    },
    {
     "data": {
      "application/vnd.jupyter.widget-view+json": {
       "model_id": "ab3783e57a1c466ea447698fb914126b",
       "version_major": 2,
       "version_minor": 0
      },
      "text/plain": [
       "Label(value='')"
      ]
     },
     "metadata": {},
     "output_type": "display_data"
    },
    {
     "data": {
      "application/vnd.jupyter.widget-view+json": {
       "model_id": "f868403d8e63414aa0f754631c26af7b",
       "version_major": 2,
       "version_minor": 0
      },
      "text/plain": [
       "Label(value='')"
      ]
     },
     "metadata": {},
     "output_type": "display_data"
    }
   ],
   "source": [
    "#HIDDEN\n",
    "#Eingabe der gegebenen und gemessenen Werte:\n",
    "texta = widgets.Label('Koordinaten Punkt A:')\n",
    "textb = widgets.Label('Koordinaten Punkt B:')\n",
    "layout_text = TwoByTwoLayout(top_left=texta, top_right=textb)\n",
    "\n",
    "ya = widgets.Text(description = 'Y [m] ', layout = Layout(height='auto', width='auto'))\n",
    "xa = widgets.Text(description = 'X [m] ', layout = Layout(height='auto', width='auto'))\n",
    "yb = widgets.Text(description = 'Y [m] ', layout = Layout(height='auto', width='auto'))\n",
    "xb = widgets.Text(description = 'X [m] ', layout = Layout(height='auto', width='auto'))\n",
    "layout_eingabe = TwoByTwoLayout(top_left=ya, top_right=yb, bottom_left=xa, bottom_right=xb)\n",
    "\n",
    "textm = widgets.Label('Koordinaten Punkt M:')\n",
    "textwinkel = widgets.Label('Winkel:')\n",
    "layout_text2 = TwoByTwoLayout(top_left=textm, top_right=textwinkel)\n",
    "\n",
    "ym = widgets.Text(description = 'Y [m] ', layout = Layout(height='auto', width='auto'))\n",
    "xm = widgets.Text(description = 'X [m] ', layout = Layout(height='auto', width='auto'))\n",
    "alpha = widgets.Text(description = 'Alpha [gon] ', layout = Layout(height='auto', width='auto'))\n",
    "beta = widgets.Text(description = 'Beta [gon] ', layout = Layout(height='auto', width='auto'))\n",
    "layout_eingabe2 = TwoByTwoLayout(top_left=ym, top_right=alpha, bottom_left=xm, bottom_right=beta)\n",
    "\n",
    "button = widgets.Button(description = 'Neuberechnung', button_style = '', layout=Layout(height='auto', width='100%'))\n",
    "\n",
    "textergebnis = widgets.Label('Koordinaten Punkt N:')\n",
    "yn_text = widgets.Text(description = 'Y [m] ', layout = Layout(height='auto', width='auto'), disabled = True)\n",
    "xn_text = widgets.Text(description = 'X [m] ', layout = Layout(height='auto', width='auto'), disabled = True)\n",
    "layout_ergebnis = TwoByTwoLayout(top_left=yn_text, top_right=xn_text)\n",
    "\n",
    "probe = widgets.Label('')\n",
    "fehler = widgets.Label('')\n",
    "\n",
    "display(layout_text,layout_eingabe, layout_text2, layout_eingabe2, button, textergebnis, layout_ergebnis, probe, fehler)\n",
    "\n",
    "def berechnung(ya,xa,yb,xb,ym,xm,alpha,beta):\n",
    "    yc = ya + (xm - xa) * 1/math.tan(alpha * math.pi/200)\n",
    "    xc = xa - (ym - ya) * 1/math.tan(alpha * math.pi/200)\n",
    "    \n",
    "    yd = yb + (xb - xm) * 1/math.tan(beta * math.pi/200)\n",
    "    xd = xb - (yb - ym) * 1/math.tan(beta * math.pi/200)\n",
    "    \n",
    "    tcd = math.atan((yd-yc)/(xd-xc))*200/math.pi\n",
    "    if yd-yc>0 and xd-xc<0:\n",
    "        tcd = tcd + 200\n",
    "    elif yd-yc<0 and xd-xc<0:\n",
    "        tcd = tcd + 200\n",
    "    elif yd-yc<0 and xd-xc>0:\n",
    "        tcd = tcd + 400\n",
    "        \n",
    "    xn = xc + (ym - yc + (xm - xc) * 1/math.tan(tcd * math.pi/200))/(math.tan(tcd * math.pi/200) + 1/math.tan(tcd * math.pi/200))\n",
    "    xn_text.value = str(round(xn,4))\n",
    "    \n",
    "    if math.tan(tcd * math.pi/200) < 1/math.tan(tcd * math.pi/200):\n",
    "        yn = yc + (xn - xc) * math.tan(tcd * math.pi/200)\n",
    "    elif 1/math.tan(tcd * math.pi/200) < math.tan(tcd * math.pi/200):\n",
    "        yn = ym - (xn - xm) * 1/math.tan(tcd *math.pi/200)\n",
    "    yn_text.value = str(round(yn,4))   \n",
    "    \n",
    "    #Probe\n",
    "    tnm = math.atan((ym-yn)/(xm-xn))*200/math.pi\n",
    "    if ym-yn>0 and xm-xn<0:\n",
    "        tnm = tnm + 200\n",
    "    elif ym-yn<0 and xm-xn<0:\n",
    "        tnm = tnm + 200\n",
    "    elif ym-yn<0 and xm-xn>0:\n",
    "        tnm = tnm + 400\n",
    "        \n",
    "    tna = math.atan((ya-yn)/(xa-xn))*200/math.pi\n",
    "    if ya-yn>0 and xa-xn<0:\n",
    "        tna = tna + 200\n",
    "    elif ya-yn<0 and xa-xn<0:\n",
    "        tna = tna + 200\n",
    "    elif ya-yn<0 and xa-xn>0:\n",
    "        tna = tna + 400\n",
    "    \n",
    "    alpha_probe = tnm - tna\n",
    "    \n",
    "    tnb = math.atan((yb-yn)/(xb-xn))*200/math.pi\n",
    "    if yb-yn>0 and xb-xn<0:\n",
    "        tnb = tnb + 200\n",
    "    elif yb-yn<0 and xb-xn<0:\n",
    "        tnb = tnb + 200\n",
    "    elif yb-yn<0 and xb-xn>0:\n",
    "        tnb = tnb + 400\n",
    "    \n",
    "    beta_probe = tnb - tnm\n",
    "    probe.value = 'Probe: Alpha = ' + str(round(alpha_probe,4)) + ' gon, Beta = ' + str(round(beta_probe,4)) + ' gon'  \n",
    "    \n",
    "    fehler.value = ''\n",
    "    if yd==yc and xd==xc:\n",
    "        fehler.value = r'\\(\\color{red}{Die~vier~Punkte~liegen~auf~einem~Kreis,~dem~sogenannten~gefährlichen~Kreis.~Die~Lösung~ist~unbestimmt!}\\)'\n",
    "    \n",
    "def start(x):\n",
    "    berechnung(float(ya.value),float(xa.value),float(yb.value),float(xb.value),float(ym.value),float(xm.value),float(alpha.value),float(beta.value))\n",
    "\n",
    "button.on_click(start)"
   ]
  },
  {
   "cell_type": "markdown",
   "metadata": {},
   "source": [
    "<center> &copy; Stefanie Schoppenhauer"
   ]
  }
 ],
 "metadata": {
  "kernelspec": {
   "display_name": "Python 3",
   "language": "python",
   "name": "python3"
  },
  "language_info": {
   "codemirror_mode": {
    "name": "ipython",
    "version": 3
   },
   "file_extension": ".py",
   "mimetype": "text/x-python",
   "name": "python",
   "nbconvert_exporter": "python",
   "pygments_lexer": "ipython3",
   "version": "3.8.3"
  }
 },
 "nbformat": 4,
 "nbformat_minor": 2
}
