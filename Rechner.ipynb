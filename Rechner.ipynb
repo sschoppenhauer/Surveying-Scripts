{
 "cells": [
  {
   "cell_type": "code",
   "execution_count": 2,
   "metadata": {},
   "outputs": [],
   "source": [
    "from ipywidgets import *"
   ]
  },
  {
   "cell_type": "code",
   "execution_count": 4,
   "metadata": {},
   "outputs": [
    {
     "data": {
      "application/vnd.jupyter.widget-view+json": {
       "model_id": "04cdd4582e4e4e6da63e65cd028478c7",
       "version_major": 2,
       "version_minor": 0
      },
      "text/plain": [
       "TwoByTwoLayout(children=(Text(value='', description='Erste Zahl: ', layout=Layout(grid_area='top-left', height…"
      ]
     },
     "metadata": {},
     "output_type": "display_data"
    },
    {
     "data": {
      "application/vnd.jupyter.widget-view+json": {
       "model_id": "fdab96a1f93f440aab3477756dc01703",
       "version_major": 2,
       "version_minor": 0
      },
      "text/plain": [
       "TwoByTwoLayout(children=(Button(button_style='info', description='addieren', layout=Layout(grid_area='top-left…"
      ]
     },
     "metadata": {},
     "output_type": "display_data"
    },
    {
     "data": {
      "application/vnd.jupyter.widget-view+json": {
       "model_id": "7efd0b2f8faf4e4ca36d256d481e7a48",
       "version_major": 2,
       "version_minor": 0
      },
      "text/plain": [
       "Label(value='X =')"
      ]
     },
     "metadata": {},
     "output_type": "display_data"
    }
   ],
   "source": [
    "Zahl1 = widgets.Text(description = 'Erste Zahl: ', layout = Layout(height='auto', width='auto'))\n",
    "Zahl2 = widgets.Text(description = 'Zweite Zahl: ', layout = Layout(height='auto', width='auto'))\n",
    "\n",
    "layout_Eingabe = TwoByTwoLayout(top_left = Zahl1, top_right = Zahl2)\n",
    "display(layout_Eingabe)\n",
    "\n",
    "summe = widgets.Button(description = 'addieren', button_style = 'info', layout=Layout(height='auto', width='auto'))\n",
    "differenz = widgets.Button(description = 'subtrahieren', button_style = 'success', layout=Layout(height='auto', width='auto'))\n",
    "produkt  = widgets.Button(description = 'multiplizieren', button_style = 'warning', layout=Layout(height='auto', width='auto'))\n",
    "quotient = widgets.Button(description = 'dividieren', button_style = 'danger', layout=Layout(height='auto', width='auto'))\n",
    "\n",
    "layout_buttons = TwoByTwoLayout(top_left=summe, top_right=differenz,\n",
    "                        bottom_left=produkt, bottom_right=quotient)\n",
    "display(layout_buttons)\n",
    "\n",
    "text3 = widgets.Label('X =')\n",
    "display(text3)\n",
    "\n",
    "def addieren(b):\n",
    "    x = float(Zahl1.value)\n",
    "    y = float(Zahl2.value)\n",
    "    text3.value = 'Summe = '+str(x + y)\n",
    "    \n",
    "def subtrahieren(b):\n",
    "    x = float(Zahl1.value)\n",
    "    y = float(Zahl2.value)\n",
    "    text3.value = 'Differenz = '+str(x - y)\n",
    "    \n",
    "def multiplizieren(b):\n",
    "    x = float(Zahl1.value)\n",
    "    y = float(Zahl2.value)\n",
    "    text3.value = 'Produkt = '+str(x * y)\n",
    "    \n",
    "def dividieren(b):\n",
    "    x = float(Zahl1.value)\n",
    "    y = float(Zahl2.value)\n",
    "    text3.value = 'Quotient = '+str(x / y)\n",
    "    \n",
    "summe.on_click(addieren)\n",
    "differenz.on_click(subtrahieren)\n",
    "produkt.on_click(multiplizieren)\n",
    "quotient.on_click(dividieren)"
   ]
  },
  {
   "cell_type": "code",
   "execution_count": null,
   "metadata": {},
   "outputs": [],
   "source": []
  }
 ],
 "metadata": {
  "kernelspec": {
   "display_name": "Python 3",
   "language": "python",
   "name": "python3"
  },
  "language_info": {
   "codemirror_mode": {
    "name": "ipython",
    "version": 3
   },
   "file_extension": ".py",
   "mimetype": "text/x-python",
   "name": "python",
   "nbconvert_exporter": "python",
   "pygments_lexer": "ipython3",
   "version": "3.8.3"
  }
 },
 "nbformat": 4,
 "nbformat_minor": 2
}
