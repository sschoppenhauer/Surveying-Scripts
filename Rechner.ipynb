{
 "cells": [
  {
   "cell_type": "markdown",
   "metadata": {},
   "source": [
    "# <center> Einfacher Taschenrechner"
   ]
  },
  {
   "cell_type": "code",
   "execution_count": 1,
   "metadata": {},
   "outputs": [],
   "source": [
    "#HIDDEN\n",
    "from ipywidgets import *"
   ]
  },
  {
   "cell_type": "code",
   "execution_count": 2,
   "metadata": {},
   "outputs": [
    {
     "data": {
      "application/vnd.jupyter.widget-view+json": {
       "model_id": "703b8d1a8e364400af702b825a1c672d",
       "version_major": 2,
       "version_minor": 0
      },
      "text/plain": [
       "TwoByTwoLayout(children=(Text(value='', description='Erste Zahl: ', layout=Layout(grid_area='top-left', height…"
      ]
     },
     "metadata": {},
     "output_type": "display_data"
    },
    {
     "data": {
      "application/vnd.jupyter.widget-view+json": {
       "model_id": "9a78d4a7281f425191d657f8fe3c391e",
       "version_major": 2,
       "version_minor": 0
      },
      "text/plain": [
       "TwoByTwoLayout(children=(Button(button_style='info', description='addieren', layout=Layout(grid_area='top-left…"
      ]
     },
     "metadata": {},
     "output_type": "display_data"
    },
    {
     "data": {
      "application/vnd.jupyter.widget-view+json": {
       "model_id": "9399c59e122c413c92e82e09e4f37de9",
       "version_major": 2,
       "version_minor": 0
      },
      "text/plain": [
       "Label(value='')"
      ]
     },
     "metadata": {},
     "output_type": "display_data"
    }
   ],
   "source": [
    "#HIDDEN\n",
    "Zahl1 = widgets.Text(description = 'Erste Zahl: ', layout = Layout(height='auto', width='auto'))\n",
    "Zahl2 = widgets.Text(description = 'Zweite Zahl: ', layout = Layout(height='auto', width='auto'))\n",
    "\n",
    "layout_Eingabe = TwoByTwoLayout(top_left = Zahl1, top_right = Zahl2)\n",
    "display(layout_Eingabe)\n",
    "\n",
    "summe = widgets.Button(description = 'addieren', button_style = 'info', layout=Layout(height='auto', width='auto'))\n",
    "differenz = widgets.Button(description = 'subtrahieren', button_style = 'success', layout=Layout(height='auto', width='auto'))\n",
    "produkt  = widgets.Button(description = 'multiplizieren', button_style = 'warning', layout=Layout(height='auto', width='auto'))\n",
    "quotient = widgets.Button(description = 'dividieren', button_style = 'danger', layout=Layout(height='auto', width='auto'))\n",
    "\n",
    "layout_buttons = TwoByTwoLayout(top_left=summe, top_right=differenz,\n",
    "                        bottom_left=produkt, bottom_right=quotient)\n",
    "display(layout_buttons)\n",
    "\n",
    "text3 = widgets.Label('')\n",
    "display(text3)\n",
    "\n",
    "def addieren(b):\n",
    "    x = float(Zahl1.value)\n",
    "    y = float(Zahl2.value)\n",
    "    text3.value = 'Summe = '+str(x + y)\n",
    "    \n",
    "def subtrahieren(b):\n",
    "    x = float(Zahl1.value)\n",
    "    y = float(Zahl2.value)\n",
    "    text3.value = 'Differenz = '+str(x - y)\n",
    "    \n",
    "def multiplizieren(b):\n",
    "    x = float(Zahl1.value)\n",
    "    y = float(Zahl2.value)\n",
    "    text3.value = 'Produkt = '+str(x * y)\n",
    "    \n",
    "def dividieren(b):\n",
    "    x = float(Zahl1.value)\n",
    "    y = float(Zahl2.value)\n",
    "    text3.value = 'Quotient = '+str(x / y)\n",
    "    \n",
    "summe.on_click(addieren)\n",
    "differenz.on_click(subtrahieren)\n",
    "produkt.on_click(multiplizieren)\n",
    "quotient.on_click(dividieren)"
   ]
  }
 ],
 "metadata": {
  "kernelspec": {
   "display_name": "Python 3",
   "language": "python",
   "name": "python3"
  },
  "language_info": {
   "codemirror_mode": {
    "name": "ipython",
    "version": 3
   },
   "file_extension": ".py",
   "mimetype": "text/x-python",
   "name": "python",
   "nbconvert_exporter": "python",
   "pygments_lexer": "ipython3",
   "version": "3.8.3"
  }
 },
 "nbformat": 4,
 "nbformat_minor": 2
}
