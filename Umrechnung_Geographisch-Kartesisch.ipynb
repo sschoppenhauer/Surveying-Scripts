{
 "cells": [
  {
   "cell_type": "markdown",
   "metadata": {},
   "source": [
    "# <center> Umrechnung ellipsoidische geographische in ellipsoidische kartesische Koordinaten"
   ]
  },
  {
   "cell_type": "markdown",
   "metadata": {},
   "source": [
    "Quelle: Gruber, Joeckel (2018): Formelsammlung für das Vermessungswesen, Springer Vieweg"
   ]
  },
  {
   "cell_type": "code",
   "execution_count": 1,
   "metadata": {},
   "outputs": [],
   "source": [
    "#HIDDEN\n",
    "from ipywidgets import *\n",
    "from IPython.display import display, clear_output, Image\n",
    "import math"
   ]
  },
  {
   "cell_type": "markdown",
   "metadata": {},
   "source": [
    "<img src=\"https://github.com/sschoppenhauer/Surveying-Scripts/raw/master/Images/Umrechnung_Geographisch-Kartesisch.PNG\" style=\"width: 850px;\"/>"
   ]
  },
  {
   "cell_type": "code",
   "execution_count": 2,
   "metadata": {},
   "outputs": [
    {
     "data": {
      "application/vnd.jupyter.widget-view+json": {
       "model_id": "29ea65c8c2c84cb0afefb41f2ce788fe",
       "version_major": 2,
       "version_minor": 0
      },
      "text/plain": [
       "Label(value='Ellipsoidische geographische Koordinaten:')"
      ]
     },
     "metadata": {},
     "output_type": "display_data"
    },
    {
     "data": {
      "application/vnd.jupyter.widget-view+json": {
       "model_id": "95d02f3a452647949bd526c4cb61846f",
       "version_major": 2,
       "version_minor": 0
      },
      "text/plain": [
       "Text(value='', description='Breite [°] ', layout=Layout(height='auto', width='auto'))"
      ]
     },
     "metadata": {},
     "output_type": "display_data"
    },
    {
     "data": {
      "application/vnd.jupyter.widget-view+json": {
       "model_id": "4aed6c49381a465f92247d3ba3af36fa",
       "version_major": 2,
       "version_minor": 0
      },
      "text/plain": [
       "Text(value='', description='Länge [°] ', layout=Layout(height='auto', width='auto'))"
      ]
     },
     "metadata": {},
     "output_type": "display_data"
    },
    {
     "data": {
      "application/vnd.jupyter.widget-view+json": {
       "model_id": "ba7885420fc5499f9bc8703d9252a9cb",
       "version_major": 2,
       "version_minor": 0
      },
      "text/plain": [
       "Text(value='', description='Höhe [m] ', layout=Layout(height='auto', width='auto'))"
      ]
     },
     "metadata": {},
     "output_type": "display_data"
    },
    {
     "data": {
      "application/vnd.jupyter.widget-view+json": {
       "model_id": "11802dbd5c4648649d7d84fb196ac7b6",
       "version_major": 2,
       "version_minor": 0
      },
      "text/plain": [
       "Label(value='Auf welchem Ellipsoid befinden wir uns?')"
      ]
     },
     "metadata": {},
     "output_type": "display_data"
    },
    {
     "data": {
      "application/vnd.jupyter.widget-view+json": {
       "model_id": "30bd43bcf74443ddae686f2e1cf4e9df",
       "version_major": 2,
       "version_minor": 0
      },
      "text/plain": [
       "TwoByTwoLayout(children=(Button(description='Bessel Ellipsoid', layout=Layout(grid_area='top-left', height='au…"
      ]
     },
     "metadata": {},
     "output_type": "display_data"
    },
    {
     "data": {
      "application/vnd.jupyter.widget-view+json": {
       "model_id": "c0b387aa389a458fb6735798ebbc238c",
       "version_major": 2,
       "version_minor": 0
      },
      "text/plain": [
       "Label(value='Ellipsoidische kartesiche Koordinaten:')"
      ]
     },
     "metadata": {},
     "output_type": "display_data"
    },
    {
     "data": {
      "application/vnd.jupyter.widget-view+json": {
       "model_id": "5a5b84d1a5e44691a67ed1733bcc5cf8",
       "version_major": 2,
       "version_minor": 0
      },
      "text/plain": [
       "Label(value='')"
      ]
     },
     "metadata": {},
     "output_type": "display_data"
    },
    {
     "data": {
      "application/vnd.jupyter.widget-view+json": {
       "model_id": "ff37b4fb086146a99cc4f76d337ab49c",
       "version_major": 2,
       "version_minor": 0
      },
      "text/plain": [
       "Label(value='')"
      ]
     },
     "metadata": {},
     "output_type": "display_data"
    },
    {
     "data": {
      "application/vnd.jupyter.widget-view+json": {
       "model_id": "8538fcb8def245049bbc562f769ae59e",
       "version_major": 2,
       "version_minor": 0
      },
      "text/plain": [
       "Label(value='')"
      ]
     },
     "metadata": {},
     "output_type": "display_data"
    },
    {
     "data": {
      "application/vnd.jupyter.widget-view+json": {
       "model_id": "de7ab0b5ade04315a9625ef5a6d022a1",
       "version_major": 2,
       "version_minor": 0
      },
      "text/plain": [
       "Label(value='')"
      ]
     },
     "metadata": {},
     "output_type": "display_data"
    }
   ],
   "source": [
    "#HIDDEN\n",
    "#Eingabe der geographischen Koordinaten\n",
    "text1 = widgets.Label('Ellipsoidische geographische Koordinaten:')\n",
    "display(text1)\n",
    "#print('Gib die geographischen Koordinaten ein:')\n",
    "breite = widgets.Text(description = 'Breite [°] ', layout = Layout(height='auto', width='auto'))\n",
    "länge = widgets.Text(description = 'Länge [°] ', layout = Layout(height='auto', width='auto'))\n",
    "höhe = widgets.Text(description = 'Höhe [m] ', layout = Layout(height='auto', width='auto'))\n",
    "display(breite,länge,höhe) \n",
    "\n",
    "#Auswahl des Ellipsoids\n",
    "text2 = widgets.Label('Auf welchem Ellipsoid befinden wir uns?')\n",
    "display(text2)\n",
    "#print('Auf welchem Ellipsoid befinden wir uns?')\n",
    "Bessel = widgets.Button(description = 'Bessel Ellipsoid', button_style = '', layout=Layout(height='auto', width='auto'))\n",
    "Internationales = widgets.Button(description = 'Internationales Ellipsoid', button_style = '', layout=Layout(height='auto', width='auto'))\n",
    "Krassowsky  = widgets.Button(description = 'Krassowsky Ellipsoid', button_style = '', layout=Layout(height='auto', width='auto'))\n",
    "GRS80 = widgets.Button(description = 'GRS80 Ellipsoid', button_style = '', layout=Layout(height='auto', width='auto'))\n",
    "\n",
    "layout_buttons = TwoByTwoLayout(top_left=Bessel, top_right=Internationales,\n",
    "                        bottom_left=Krassowsky, bottom_right=GRS80)\n",
    "display(layout_buttons)\n",
    "output = widgets.Output()\n",
    "\n",
    "#description = widgets.Label('',layout = Layout(height='auto', width='100'))\n",
    "#display(description)\n",
    "\n",
    "text3 = widgets.Label('Ellipsoidische kartesiche Koordinaten:')\n",
    "display(text3)\n",
    "ergebnis = widgets.Label('')\n",
    "display(ergebnis)\n",
    "textX = widgets.Label('')\n",
    "textY = widgets.Label('')\n",
    "textZ = widgets.Label('')\n",
    "display(textX,textY,textZ)\n",
    "   \n",
    "def umrechnung(a, b, B, L, h):\n",
    "    e = (a**2-b**2)/a**2\n",
    "    N = a/(1-e*math.sin(B*math.pi/180)**2)\n",
    "    X = (N+h)*math.cos(B*math.pi/180)*math.cos(L*math.pi/180)\n",
    "    Y = (N+h)*math.cos(B*math.pi/180)*math.sin(L*math.pi/180)\n",
    "    Z = N*math.sin(B*math.pi/180)*b**2/a**2+h*math.sin(B*math.pi/180)\n",
    "    ergebnis.value = '(X, Y, Z) = (' +str(round(X,4))+ ', ' +str(round(Y,4))+ ', ' +str(round(Z,4)) +')'\n",
    "    #textX.value = 'X = ' +str(round(X,4))\n",
    "    #textY.value = 'Y = ' +str(round(Y,4))\n",
    "    #textZ.value = 'Z = ' +str(round(Z,4))\n",
    "\n",
    "def bessel(x):\n",
    "    Bessel.button_style='info'\n",
    "    Internationales.button_style=''\n",
    "    Krassowsky.button_style=''\n",
    "    GRS80.button_style=''\n",
    "    a = 6377397.155\n",
    "    b = 6356078.963\n",
    "    umrechnung (a, b, float(breite.value), float(länge.value), float(höhe.value))\n",
    "    \n",
    "def internationales(x):\n",
    "    Bessel.button_style=''\n",
    "    Internationales.button_style='info'\n",
    "    Krassowsky.button_style=''\n",
    "    GRS80.button_style=''\n",
    "    a = 6378388.000\n",
    "    b = 6356911.946\n",
    "    umrechnung (a, b, float(breite.value), float(länge.value), float(höhe.value))\n",
    "    \n",
    "def krassowsky(x):\n",
    "    Bessel.button_style=''\n",
    "    Internationales.button_style=''\n",
    "    Krassowsky.button_style='info'\n",
    "    GRS80.button_style=''\n",
    "    a = 6378245.000\n",
    "    b = 6356863.019\n",
    "    umrechnung (a, b, float(breite.value), float(länge.value), float(höhe.value))\n",
    "\n",
    "def grs80(x):\n",
    "    Bessel.button_style=''\n",
    "    Internationales.button_style=''\n",
    "    Krassowsky.button_style=''\n",
    "    GRS80.button_style='info'\n",
    "    a = 6378137.000\n",
    "    b = 6356752.314\n",
    "    umrechnung (a, b, float(breite.value), float(länge.value), float(höhe.value))\n",
    "    \n",
    "Bessel.on_click(bessel)\n",
    "Internationales.on_click(internationales)\n",
    "Krassowsky.on_click(krassowsky)\n",
    "GRS80.on_click(grs80)"
   ]
  }
 ],
 "metadata": {
  "kernelspec": {
   "display_name": "Python 3",
   "language": "python",
   "name": "python3"
  },
  "language_info": {
   "codemirror_mode": {
    "name": "ipython",
    "version": 3
   },
   "file_extension": ".py",
   "mimetype": "text/x-python",
   "name": "python",
   "nbconvert_exporter": "python",
   "pygments_lexer": "ipython3",
   "version": "3.8.3"
  }
 },
 "nbformat": 4,
 "nbformat_minor": 2
}
