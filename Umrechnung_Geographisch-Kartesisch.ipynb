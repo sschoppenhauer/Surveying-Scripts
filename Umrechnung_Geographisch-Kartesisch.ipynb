{
 "cells": [
  {
   "cell_type": "markdown",
   "metadata": {},
   "source": [
    "# <center> Umrechnung ellipsoidische geographische in ellipsoidische kartesische Koordinaten"
   ]
  },
  {
   "cell_type": "markdown",
   "metadata": {},
   "source": [
    "Quelle: Gruber, Joeckel (2018): Formelsammlung für das Vermessungswesen, Springer Vieweg"
   ]
  },
  {
   "cell_type": "code",
   "execution_count": 1,
   "metadata": {},
   "outputs": [],
   "source": [
    "#HIDDEN\n",
    "from ipywidgets import *\n",
    "from IPython.display import display, clear_output, Image\n",
    "import math\n",
    "import numpy as np"
   ]
  },
  {
   "cell_type": "markdown",
   "metadata": {},
   "source": [
    "<img src=\"https://github.com/sschoppenhauer/Surveying-Scripts/raw/master/Ellipsoidische-Koordinaten_zusammen.PNG\" style=\"width: 850px;\"/>"
   ]
  },
  {
   "cell_type": "code",
   "execution_count": 2,
   "metadata": {},
   "outputs": [
    {
     "data": {
      "application/vnd.jupyter.widget-view+json": {
       "model_id": "9210a25f07c8491195244e424149e0c2",
       "version_major": 2,
       "version_minor": 0
      },
      "text/plain": [
       "Label(value='Ellipsoidische geographische Koordinaten:')"
      ]
     },
     "metadata": {},
     "output_type": "display_data"
    },
    {
     "data": {
      "application/vnd.jupyter.widget-view+json": {
       "model_id": "d280a1ae1f6e41a3b5b6a52c6b8f445e",
       "version_major": 2,
       "version_minor": 0
      },
      "text/plain": [
       "Text(value='', description='Breite [°] ', layout=Layout(height='auto', width='auto'))"
      ]
     },
     "metadata": {},
     "output_type": "display_data"
    },
    {
     "data": {
      "application/vnd.jupyter.widget-view+json": {
       "model_id": "f8a70c63616a432cab9c3277fd78980f",
       "version_major": 2,
       "version_minor": 0
      },
      "text/plain": [
       "Text(value='', description='Länge [°] ', layout=Layout(height='auto', width='auto'))"
      ]
     },
     "metadata": {},
     "output_type": "display_data"
    },
    {
     "data": {
      "application/vnd.jupyter.widget-view+json": {
       "model_id": "1ca019ccd3bd42229b2bb7f36570224a",
       "version_major": 2,
       "version_minor": 0
      },
      "text/plain": [
       "Text(value='', description='Höhe [m] ', layout=Layout(height='auto', width='auto'))"
      ]
     },
     "metadata": {},
     "output_type": "display_data"
    },
    {
     "data": {
      "application/vnd.jupyter.widget-view+json": {
       "model_id": "192ce01284df4e839a86b21ec81e6530",
       "version_major": 2,
       "version_minor": 0
      },
      "text/plain": [
       "Label(value='Auf welchem Ellipsoid befinden wir uns?')"
      ]
     },
     "metadata": {},
     "output_type": "display_data"
    },
    {
     "data": {
      "application/vnd.jupyter.widget-view+json": {
       "model_id": "ee1104929a52448d84febc1b67ca8d06",
       "version_major": 2,
       "version_minor": 0
      },
      "text/plain": [
       "ToggleButtons(description='Ellipsoid:', icons=('globe', 'globe', 'globe', 'globe'), options=('Bessel ', 'Inter…"
      ]
     },
     "metadata": {},
     "output_type": "display_data"
    },
    {
     "data": {
      "application/vnd.jupyter.widget-view+json": {
       "model_id": "1cc4cb584ab9434cb3346a32680e6744",
       "version_major": 2,
       "version_minor": 0
      },
      "text/plain": [
       "Output()"
      ]
     },
     "metadata": {},
     "output_type": "display_data"
    },
    {
     "data": {
      "application/vnd.jupyter.widget-view+json": {
       "model_id": "c31c8f14de6b4ebfb16c2af198c9a194",
       "version_major": 2,
       "version_minor": 0
      },
      "text/plain": [
       "Label(value='Ellipsoidische kartesiche Koordinaten: (X, Y, Z) =')"
      ]
     },
     "metadata": {},
     "output_type": "display_data"
    }
   ],
   "source": [
    "#HIDDEN\n",
    "#Eingabe der geographischen Koordinaten\n",
    "text1 = widgets.Label('Ellipsoidische geographische Koordinaten:')\n",
    "display(text1)\n",
    "#print('Gib die geographischen Koordinaten ein:')\n",
    "breite = widgets.Text(description = 'Breite [°] ', layout = Layout(height='auto', width='auto'))\n",
    "länge = widgets.Text(description = 'Länge [°] ', layout = Layout(height='auto', width='auto'))\n",
    "höhe = widgets.Text(description = 'Höhe [m] ', layout = Layout(height='auto', width='auto'))\n",
    "display(breite,länge,höhe) \n",
    "\n",
    "#Auswahl des Ellipsoids\n",
    "text2 = widgets.Label('Auf welchem Ellipsoid befinden wir uns?')\n",
    "display(text2)\n",
    "#print('Auf welchem Ellipsoid befinden wir uns?')\n",
    "ellipsoid = widgets.ToggleButtons(\n",
    "    options = ['Bessel ', 'Internationales ', 'Krassowsky ', 'GRS80 '],\n",
    "    description = 'Ellipsoid:',\n",
    "    disabled = False,\n",
    "    button_style = '', # 'success', 'info', 'warning', 'danger' or ''\n",
    "    tooltips = ['Erklärung Bessel', 'Erklärung Internationales', 'Erklärung Krassowsky', 'Erklärung GRS80'],\n",
    "    icons = ['globe'] * 4,)\n",
    "\n",
    "output = widgets.Output()\n",
    "display(ellipsoid, output)\n",
    "\n",
    "#description = widgets.Label('',layout = Layout(height='auto', width='100'))\n",
    "#display(description)\n",
    "\n",
    "ergebnis = widgets.Label('Ellipsoidische kartesiche Koordinaten: (X, Y, Z) =')\n",
    "display(ergebnis)\n",
    "\n",
    "def on_click(change):\n",
    "    if ellipsoid.value == 'Bessel ':\n",
    "        a = 6377397.155\n",
    "        b = 6356078.963\n",
    "        #description.value = ellipsoid.tooltips[0]\n",
    "        umrechnung (a, b, float(breite.value), float(länge.value), float(höhe.value))\n",
    "    elif ellipsoid.value == 'Internationales ':\n",
    "        a = 6378388.000\n",
    "        b = 6356911.946\n",
    "        #description.value = ellipsoid.tooltips[1]\n",
    "        umrechnung (a, b, float(breite.value), float(länge.value), float(höhe.value))\n",
    "    elif ellipsoid.value == 'Krassowsky ':\n",
    "        a = 6378245.000\n",
    "        b = 6356863.019\n",
    "        #description.value = ellipsoid.tooltips[2]\n",
    "        umrechnung (a, b, float(breite.value), float(länge.value), float(höhe.value))\n",
    "    elif ellipsoid.value == 'GRS80 ':\n",
    "        a = 6378137.000\n",
    "        b = 6356752.314\n",
    "        #description.value = ellipsoid.tooltips[3]\n",
    "        umrechnung (a, b, float(breite.value), float(länge.value), float(höhe.value))\n",
    "    \n",
    "def umrechnung(a, b, B, L, h):\n",
    "    e = (a**2-b**2)/a**2\n",
    "    N = a/(1-e*math.sin(B*math.pi/180)**2)\n",
    "    X = (N+h)*math.cos(B*math.pi/180)*math.cos(L*math.pi/180)\n",
    "    Y = (N+h)*math.cos(B*math.pi/180)*math.sin(L*math.pi/180)\n",
    "    Z = N*math.sin(B*math.pi/180)*b**2/a**2+h*math.sin(B*math.pi/180)\n",
    "    ergebnis.value = 'Ellipsoidische kartesiche Koordinaten: (X, Y, Z) = (' +str(np.round(X,4))+ ', ' +str(np.round(Y,4))+ ', ' +str(np.round(Z,4)) +')'\n",
    "\n",
    "ellipsoid.observe(on_click, 'value')"
   ]
  }
 ],
 "metadata": {
  "kernelspec": {
   "display_name": "Python 3",
   "language": "python",
   "name": "python3"
  },
  "language_info": {
   "codemirror_mode": {
    "name": "ipython",
    "version": 3
   },
   "file_extension": ".py",
   "mimetype": "text/x-python",
   "name": "python",
   "nbconvert_exporter": "python",
   "pygments_lexer": "ipython3",
   "version": "3.8.3"
  }
 },
 "nbformat": 4,
 "nbformat_minor": 2
}
