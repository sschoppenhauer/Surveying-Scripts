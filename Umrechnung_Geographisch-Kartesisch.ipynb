{
 "cells": [
  {
   "cell_type": "markdown",
   "metadata": {},
   "source": [
    "# <center> Umrechnung ellipsoidische geographische in ellipsoidische kartesische Koordinaten"
   ]
  },
  {
   "cell_type": "markdown",
   "metadata": {},
   "source": [
    "Quelle: Gruber, Joeckel (2018): Formelsammlung für das Vermessungswesen, Springer Vieweg"
   ]
  },
  {
   "cell_type": "code",
   "execution_count": 1,
   "metadata": {},
   "outputs": [],
   "source": [
    "#HIDDEN\n",
    "from ipywidgets import *\n",
    "from IPython.display import display, clear_output, Image\n",
    "import math\n",
    "import numpy as np"
   ]
  },
  {
   "cell_type": "markdown",
   "metadata": {},
   "source": [
    "<img src=\"https://github.com/sschoppenhauer/Surveying-Scripts/raw/master/Ellipsoidische-Koordinaten_zusammen.PNG\" style=\"width: 850px;\"/>"
   ]
  },
  {
   "cell_type": "code",
   "execution_count": 2,
   "metadata": {},
   "outputs": [
    {
     "data": {
      "application/vnd.jupyter.widget-view+json": {
       "model_id": "d6cb638b16a047518dfa0587f5941945",
       "version_major": 2,
       "version_minor": 0
      },
      "text/plain": [
       "Label(value='Ellipsoidische geographische Koordinaten:')"
      ]
     },
     "metadata": {},
     "output_type": "display_data"
    },
    {
     "data": {
      "application/vnd.jupyter.widget-view+json": {
       "model_id": "b6949a678c634c82a4b4039d7130e418",
       "version_major": 2,
       "version_minor": 0
      },
      "text/plain": [
       "Text(value='', description='Breite [°] ', layout=Layout(height='auto', width='auto'))"
      ]
     },
     "metadata": {},
     "output_type": "display_data"
    },
    {
     "data": {
      "application/vnd.jupyter.widget-view+json": {
       "model_id": "34fb82f58366491c83042a3ada52b144",
       "version_major": 2,
       "version_minor": 0
      },
      "text/plain": [
       "Text(value='', description='Länge [°] ', layout=Layout(height='auto', width='auto'))"
      ]
     },
     "metadata": {},
     "output_type": "display_data"
    },
    {
     "data": {
      "application/vnd.jupyter.widget-view+json": {
       "model_id": "bbd6dfa59a24495f9c777855207a2c29",
       "version_major": 2,
       "version_minor": 0
      },
      "text/plain": [
       "Text(value='', description='Höhe [m] ', layout=Layout(height='auto', width='auto'))"
      ]
     },
     "metadata": {},
     "output_type": "display_data"
    },
    {
     "data": {
      "application/vnd.jupyter.widget-view+json": {
       "model_id": "c1e97c25b28d4887b34cea679bf2e8ee",
       "version_major": 2,
       "version_minor": 0
      },
      "text/plain": [
       "Label(value='Auf welchem Ellipsoid befinden wir uns?')"
      ]
     },
     "metadata": {},
     "output_type": "display_data"
    },
    {
     "data": {
      "application/vnd.jupyter.widget-view+json": {
       "model_id": "cf30f553953c444a85dcc6a0924e49a9",
       "version_major": 2,
       "version_minor": 0
      },
      "text/plain": [
       "TwoByTwoLayout(children=(Button(description='Bessel Ellipsoid', icon='globe', layout=Layout(grid_area='top-lef…"
      ]
     },
     "metadata": {},
     "output_type": "display_data"
    },
    {
     "data": {
      "application/vnd.jupyter.widget-view+json": {
       "model_id": "9e66d384df1e4a50a00c3812875ec366",
       "version_major": 2,
       "version_minor": 0
      },
      "text/plain": [
       "Label(value='Ellipsoidische kartesiche Koordinaten: (X, Y, Z) =')"
      ]
     },
     "metadata": {},
     "output_type": "display_data"
    }
   ],
   "source": [
    "#HIDDEN\n",
    "#Eingabe der geographischen Koordinaten\n",
    "text1 = widgets.Label('Ellipsoidische geographische Koordinaten:')\n",
    "display(text1)\n",
    "#print('Gib die geographischen Koordinaten ein:')\n",
    "breite = widgets.Text(description = 'Breite [°] ', layout = Layout(height='auto', width='auto'))\n",
    "länge = widgets.Text(description = 'Länge [°] ', layout = Layout(height='auto', width='auto'))\n",
    "höhe = widgets.Text(description = 'Höhe [m] ', layout = Layout(height='auto', width='auto'))\n",
    "display(breite,länge,höhe) \n",
    "\n",
    "#Auswahl des Ellipsoids\n",
    "text2 = widgets.Label('Auf welchem Ellipsoid befinden wir uns?')\n",
    "display(text2)\n",
    "#print('Auf welchem Ellipsoid befinden wir uns?')\n",
    "Bessel = widgets.Button(description = 'Bessel Ellipsoid', icon='globe', button_style = '', layout=Layout(height='auto', width='auto'))\n",
    "Internationales = widgets.Button(description = 'Internationales Ellipsoid', icon='globe', button_style = '', layout=Layout(height='auto', width='auto'))\n",
    "Krassowsky  = widgets.Button(description = 'Krassowsky Ellipsoid', icon='globe', button_style = '', layout=Layout(height='auto', width='auto'))\n",
    "GRS80 = widgets.Button(description = 'GRS80 Ellipsoid', icon='globe', button_style = '', layout=Layout(height='auto', width='auto'))\n",
    "\n",
    "layout_buttons = TwoByTwoLayout(top_left=Bessel, top_right=Internationales,\n",
    "                        bottom_left=Krassowsky, bottom_right=GRS80)\n",
    "display(layout_buttons)\n",
    "output = widgets.Output()\n",
    "\n",
    "#description = widgets.Label('',layout = Layout(height='auto', width='100'))\n",
    "#display(description)\n",
    "\n",
    "ergebnis = widgets.Label('Ellipsoidische kartesiche Koordinaten: (X, Y, Z) =')\n",
    "display(ergebnis)\n",
    "   \n",
    "def umrechnung(a, b, B, L, h):\n",
    "    e = (a**2-b**2)/a**2\n",
    "    N = a/(1-e*math.sin(B*math.pi/180)**2)\n",
    "    X = (N+h)*math.cos(B*math.pi/180)*math.cos(L*math.pi/180)\n",
    "    Y = (N+h)*math.cos(B*math.pi/180)*math.sin(L*math.pi/180)\n",
    "    Z = N*math.sin(B*math.pi/180)*b**2/a**2+h*math.sin(B*math.pi/180)\n",
    "    ergebnis.value = 'Ellipsoidische kartesiche Koordinaten: (X, Y, Z) = (' +str(np.round(X,4))+ ', ' +str(np.round(Y,4))+ ', ' +str(np.round(Z,4)) +')'\n",
    "\n",
    "def bessel(x):\n",
    "    Bessel.button_style='info'\n",
    "    Internationales.button_style=''\n",
    "    Krassowsky.button_style=''\n",
    "    GRS80.button_style=''\n",
    "    a = 6377397.155\n",
    "    b = 6356078.963\n",
    "    umrechnung (a, b, float(breite.value), float(länge.value), float(höhe.value))\n",
    "    \n",
    "def internationales(x):\n",
    "    Bessel.button_style=''\n",
    "    Internationales.button_style='info'\n",
    "    Krassowsky.button_style=''\n",
    "    GRS80.button_style=''\n",
    "    a = 6378388.000\n",
    "    b = 6356911.946\n",
    "    umrechnung (a, b, float(breite.value), float(länge.value), float(höhe.value))\n",
    "    \n",
    "def krassowsky(x):\n",
    "    Bessel.button_style=''\n",
    "    Internationales.button_style=''\n",
    "    Krassowsky.button_style='info'\n",
    "    GRS80.button_style=''\n",
    "    a = 6378245.000\n",
    "    b = 6356863.019\n",
    "    umrechnung (a, b, float(breite.value), float(länge.value), float(höhe.value))\n",
    "\n",
    "def grs80(x):\n",
    "    Bessel.button_style=''\n",
    "    Internationales.button_style=''\n",
    "    Krassowsky.button_style=''\n",
    "    GRS80.button_style='info'\n",
    "    a = 6378137.000\n",
    "    b = 6356752.314\n",
    "    umrechnung (a, b, float(breite.value), float(länge.value), float(höhe.value))\n",
    "    \n",
    "Bessel.on_click(bessel)\n",
    "Internationales.on_click(internationales)\n",
    "Krassowsky.on_click(krassowsky)\n",
    "GRS80.on_click(grs80)"
   ]
  }
 ],
 "metadata": {
  "kernelspec": {
   "display_name": "Python 3",
   "language": "python",
   "name": "python3"
  },
  "language_info": {
   "codemirror_mode": {
    "name": "ipython",
    "version": 3
   },
   "file_extension": ".py",
   "mimetype": "text/x-python",
   "name": "python",
   "nbconvert_exporter": "python",
   "pygments_lexer": "ipython3",
   "version": "3.8.3"
  }
 },
 "nbformat": 4,
 "nbformat_minor": 2
}
