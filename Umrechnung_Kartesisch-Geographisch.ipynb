{
 "cells": [
  {
   "cell_type": "markdown",
   "metadata": {},
   "source": [
    "# <center> Umrechnung ellipsoidische kartesische in ellipsoidische geographische Koordinaten"
   ]
  },
  {
   "cell_type": "markdown",
   "metadata": {},
   "source": [
    "Quelle: Gruber, Joeckel (2018): Formelsammlung für das Vermessungswesen, Springer Vieweg"
   ]
  },
  {
   "cell_type": "code",
   "execution_count": 1,
   "metadata": {},
   "outputs": [],
   "source": [
    "#HIDDEN\n",
    "from ipywidgets import *\n",
    "from IPython.display import display, clear_output, Image\n",
    "import math"
   ]
  },
  {
   "cell_type": "markdown",
   "metadata": {},
   "source": [
    "<img src=\"https://github.com/sschoppenhauer/Surveying-Scripts/raw/master/Images/Umrechnung_Kartesisch-Geographisch.PNG\" style=\"width: 850px;\"/>"
   ]
  },
  {
   "cell_type": "code",
   "execution_count": 2,
   "metadata": {},
   "outputs": [
    {
     "data": {
      "application/vnd.jupyter.widget-view+json": {
       "model_id": "05f49e947d6b4a38af7bb362c99f5802",
       "version_major": 2,
       "version_minor": 0
      },
      "text/plain": [
       "Label(value='Ellipsoidische kartesische Koordinaten:')"
      ]
     },
     "metadata": {},
     "output_type": "display_data"
    },
    {
     "data": {
      "application/vnd.jupyter.widget-view+json": {
       "model_id": "c6c8304b0c2a48bfbb1cffbef0d48921",
       "version_major": 2,
       "version_minor": 0
      },
      "text/plain": [
       "Text(value='', description='X [m] ', layout=Layout(height='auto', width='auto'))"
      ]
     },
     "metadata": {},
     "output_type": "display_data"
    },
    {
     "data": {
      "application/vnd.jupyter.widget-view+json": {
       "model_id": "af5d8e2e066f4af6a6440a9c6ebb23c0",
       "version_major": 2,
       "version_minor": 0
      },
      "text/plain": [
       "Text(value='', description='Y [m] ', layout=Layout(height='auto', width='auto'))"
      ]
     },
     "metadata": {},
     "output_type": "display_data"
    },
    {
     "data": {
      "application/vnd.jupyter.widget-view+json": {
       "model_id": "9687e8ab264a44a7b625177f1a0cf8c9",
       "version_major": 2,
       "version_minor": 0
      },
      "text/plain": [
       "Text(value='', description='Z [m] ', layout=Layout(height='auto', width='auto'))"
      ]
     },
     "metadata": {},
     "output_type": "display_data"
    },
    {
     "data": {
      "application/vnd.jupyter.widget-view+json": {
       "model_id": "98ae81f85fec4b08b1a7e75957d9a547",
       "version_major": 2,
       "version_minor": 0
      },
      "text/plain": [
       "Label(value='Auf welchem Ellipsoid befinden wir uns?')"
      ]
     },
     "metadata": {},
     "output_type": "display_data"
    },
    {
     "data": {
      "application/vnd.jupyter.widget-view+json": {
       "model_id": "3e9eb17f703b48e6affe61e9b132c404",
       "version_major": 2,
       "version_minor": 0
      },
      "text/plain": [
       "TwoByTwoLayout(children=(Button(description='Bessel Ellipsoid', layout=Layout(grid_area='top-left', height='au…"
      ]
     },
     "metadata": {},
     "output_type": "display_data"
    },
    {
     "data": {
      "application/vnd.jupyter.widget-view+json": {
       "model_id": "1d8c0756f4574bf38762c62ab1f37915",
       "version_major": 2,
       "version_minor": 0
      },
      "text/plain": [
       "Label(value='Ellipsoidische geographische Koordinaten:')"
      ]
     },
     "metadata": {},
     "output_type": "display_data"
    },
    {
     "data": {
      "application/vnd.jupyter.widget-view+json": {
       "model_id": "c139fc0aee144592b736357af616ad86",
       "version_major": 2,
       "version_minor": 0
      },
      "text/plain": [
       "Label(value='')"
      ]
     },
     "metadata": {},
     "output_type": "display_data"
    }
   ],
   "source": [
    "#HIDDEN\n",
    "#Eingabe der geographischen Koordinaten\n",
    "text1 = widgets.Label('Ellipsoidische kartesische Koordinaten:')\n",
    "display(text1)\n",
    "#print('Gib die geographischen Koordinaten ein:')\n",
    "X = widgets.Text(description = 'X [m] ', layout = Layout(height='auto', width='auto'))\n",
    "Y = widgets.Text(description = 'Y [m] ', layout = Layout(height='auto', width='auto'))\n",
    "Z = widgets.Text(description = 'Z [m] ', layout = Layout(height='auto', width='auto'))\n",
    "display(X,Y,Z) \n",
    "\n",
    "#Auswahl des Ellipsoids\n",
    "text2 = widgets.Label('Auf welchem Ellipsoid befinden wir uns?')\n",
    "display(text2)\n",
    "#print('Auf welchem Ellipsoid befinden wir uns?')\n",
    "Bessel = widgets.Button(description = 'Bessel Ellipsoid', button_style = '', layout=Layout(height='auto', width='auto'))\n",
    "Internationales = widgets.Button(description = 'Internationales Ellipsoid', button_style = '', layout=Layout(height='auto', width='auto'))\n",
    "Krassowsky  = widgets.Button(description = 'Krassowsky Ellipsoid', button_style = '', layout=Layout(height='auto', width='auto'))\n",
    "GRS80 = widgets.Button(description = 'GRS80 Ellipsoid', button_style = '', layout=Layout(height='auto', width='auto'))\n",
    "\n",
    "layout_buttons = TwoByTwoLayout(top_left=Bessel, top_right=Internationales,\n",
    "                        bottom_left=Krassowsky, bottom_right=GRS80)\n",
    "display(layout_buttons)\n",
    "output = widgets.Output()\n",
    "\n",
    "#description = widgets.Label('',layout = Layout(height='auto', width='100'))\n",
    "#display(description)\n",
    "\n",
    "text3 = widgets.Label('Ellipsoidische geographische Koordinaten:')\n",
    "display(text3)\n",
    "ergebnis = widgets.Label('')\n",
    "display(ergebnis)\n",
    "   \n",
    "def umrechnung(a, b, X, Y, Z):\n",
    "    e = (a**2 - b**2)/(a**2)\n",
    "    #print('e =',e)\n",
    "    e_ = (a**2 - b**2)/(b**2)\n",
    "    #print('e_ =',e_)\n",
    "    p = math.sqrt(X**2 + Y**2)\n",
    "    #print('p =',p)\n",
    "    theta = math.atan((Z*a)/(p*b))\n",
    "    #print('theta =', theta)\n",
    "    breite = math.atan((Z+e_*b*math.sin(theta)**3)/(p-e*a*math.cos(theta)**3))\n",
    "    N = a/(math.sqrt(1-e*(math.sin(breite))**2))\n",
    "    #print('N =',N)\n",
    "    länge = math.atan(Y/X)\n",
    "    höhe = (p/(math.cos(breite))) - N\n",
    "    ergebnis.value = '(B, L, h) = (' +str(round(breite*180/math.pi,4))+ '° , ' +str(round(länge*180/math.pi,4))+ '° , ' +str(round(höhe,3)) +'m)'\n",
    "\n",
    "def bessel(x):\n",
    "    Bessel.button_style='info'\n",
    "    Internationales.button_style=''\n",
    "    Krassowsky.button_style=''\n",
    "    GRS80.button_style=''\n",
    "    a = 6377397.155\n",
    "    b = 6356078.963\n",
    "    umrechnung (a, b, float(X.value), float(Y.value), float(Z.value))\n",
    "    \n",
    "def internationales(x):\n",
    "    Bessel.button_style=''\n",
    "    Internationales.button_style='info'\n",
    "    Krassowsky.button_style=''\n",
    "    GRS80.button_style=''\n",
    "    a = 6378388.000\n",
    "    b = 6356911.946\n",
    "    umrechnung (a, b, float(X.value), float(Y.value), float(Z.value))\n",
    "    \n",
    "def krassowsky(x):\n",
    "    Bessel.button_style=''\n",
    "    Internationales.button_style=''\n",
    "    Krassowsky.button_style='info'\n",
    "    GRS80.button_style=''\n",
    "    a = 6378245.000\n",
    "    b = 6356863.019\n",
    "    umrechnung (a, b, float(X.value), float(Y.value), float(Z.value))\n",
    "\n",
    "def grs80(x):\n",
    "    Bessel.button_style=''\n",
    "    Internationales.button_style=''\n",
    "    Krassowsky.button_style=''\n",
    "    GRS80.button_style='info'\n",
    "    a = 6378137.000\n",
    "    b = 6356752.314\n",
    "    umrechnung (a, b, float(X.value), float(Y.value), float(Z.value))\n",
    "    \n",
    "Bessel.on_click(bessel)\n",
    "Internationales.on_click(internationales)\n",
    "Krassowsky.on_click(krassowsky)\n",
    "GRS80.on_click(grs80)"
   ]
  },
  {
   "cell_type": "markdown",
   "metadata": {},
   "source": [
    "<center> &copy; Stefanie Schoppenhauer"
   ]
  }
 ],
 "metadata": {
  "kernelspec": {
   "display_name": "Python 3",
   "language": "python",
   "name": "python3"
  },
  "language_info": {
   "codemirror_mode": {
    "name": "ipython",
    "version": 3
   },
   "file_extension": ".py",
   "mimetype": "text/x-python",
   "name": "python",
   "nbconvert_exporter": "python",
   "pygments_lexer": "ipython3",
   "version": "3.8.3"
  }
 },
 "nbformat": 4,
 "nbformat_minor": 2
}
